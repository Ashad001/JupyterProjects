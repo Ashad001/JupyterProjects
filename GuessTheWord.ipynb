{
  "nbformat": 4,
  "nbformat_minor": 0,
  "metadata": {
    "colab": {
      "name": "GuessTheWord.ipynb",
      "provenance": [],
      "authorship_tag": "ABX9TyM+lMEl9WORw7Tm8POK1qS7",
      "include_colab_link": true
    },
    "kernelspec": {
      "name": "python3",
      "display_name": "Python 3"
    },
    "language_info": {
      "name": "python"
    }
  },
  "cells": [
    {
      "cell_type": "markdown",
      "metadata": {
        "id": "view-in-github",
        "colab_type": "text"
      },
      "source": [
        "<a href=\"https://colab.research.google.com/github/Ashad001/Python/blob/main/GuessTheWord.ipynb\" target=\"_parent\"><img src=\"https://colab.research.google.com/assets/colab-badge.svg\" alt=\"Open In Colab\"/></a>"
      ]
    },
    {
      "cell_type": "code",
      "execution_count": 5,
      "metadata": {
        "colab": {
          "base_uri": "https://localhost:8080/"
        },
        "id": "XilAzuv30Fb6",
        "outputId": "59c7ea46-a753-41b6-b66f-c9ced0d9610d"
      },
      "outputs": [
        {
          "name": "stdout",
          "output_type": "stream",
          "text": [
            "Enter your name: Ashad\n",
            "Hello Ashad! Welcome to the guessing game!\n",
            "c _ c h e \n",
            "Enter your guess:a\n",
            "c a c h e \n",
            "You won!\n",
            " Your Score is 100\n",
            "Do you want to play again? (Yes/No) yes\n",
            "\n",
            "Enter your guess:t\n",
            "\n",
            "Wrong Answer!\n",
            "You got 9 left\n",
            "b a _ a _ a \n",
            "Enter your guess:r\n",
            "\n",
            "Wrong Answer!\n",
            "You got 8 left\n",
            "b a _ a _ a \n",
            "Enter your guess:r\n",
            "\n",
            "Wrong Answer!\n",
            "You got 7 left\n",
            "b a _ a _ a \n",
            "Enter your guess:r\n",
            "\n",
            "Wrong Answer!\n",
            "You got 6 left\n",
            "b a _ a _ a \n",
            "Enter your guess:r\n",
            "\n",
            "Wrong Answer!\n",
            "You got 5 left\n",
            "b a _ a _ a \n",
            "Enter your guess:r\n",
            "\n",
            "Wrong Answer!\n",
            "You got 4 left\n",
            "b a _ a _ a \n",
            "Enter your guess:r\n",
            "\n",
            "Wrong Answer!\n",
            "You got 3 left\n",
            "b a _ a _ a \n",
            "Enter your guess:r\n",
            "\n",
            "Wrong Answer!\n",
            "You got 2 left\n",
            "b a _ a _ a \n",
            "Enter your guess:r\n",
            "\n",
            "Wrong Answer!\n",
            "You got 1 left\n",
            "b a _ a _ a \n",
            "Enter your guess:r\n",
            "\n",
            "Wrong Answer!\n",
            "You got 0 left\n",
            "You lose!\n",
            "Do you want to play again? (Yes/No) No\n"
          ]
        }
      ],
      "source": [
        "import random\n",
        "name = input('Enter your name: ')\n",
        "print(f\"Hello {name}! Welcome to the guessing game!\")\n",
        "words = [\"ashad\", \"banana\", \"calender\", \"python\", \"collaboratory\", \"combo\", \"streak\", \"opensource\", \"settings\", \"cache\"]\n",
        "index = random.randint(0, len(words) - 1)\n",
        "word = words[index]\n",
        "guesses = \"\"\n",
        "indexes = random.sample(range(0,len(word)), 3)\n",
        "for i in indexes:\n",
        "  guesses += word[i]\n",
        "chances = 10\n",
        "play = 'Yes'\n",
        "def Reset():\n",
        "  global play\n",
        "  play = input(\"Do you want to play again? (Yes/No) \")\n",
        "  if(play == 'Yes' or play == 'yes'):\n",
        "    global chances, word, guesses\n",
        "    chances = 10\n",
        "    index = random.randint(0, len(words) - 1)\n",
        "    word = words[index]\n",
        "    guesses = \"\"\n",
        "    indexes = random.sample(range(0,len(word)), 3)\n",
        "    for i in indexes:\n",
        "      guesses += word[i]\n",
        "\n",
        "\n",
        "\n",
        "while play == 'yes' or play == 'Yes':\n",
        "  won = True\n",
        "  for ch in word:\n",
        "    if ch in guesses:\n",
        "      print(ch , end = ' ')\n",
        "    else:\n",
        "      print('_', end = ' ')\n",
        "      won = False\n",
        "  if won:\n",
        "    print(f'\\nYou won!\\n Your Score is {chances * 10}')\n",
        "    Reset()\n",
        "    if(play == 'No'):\n",
        "      break\n",
        "  guess = input(\"\\nEnter your guess:\")\n",
        "  guesses += guess\n",
        "  if guess not in word:\n",
        "    chances -= 1r\n",
        "    print(f\"\\nWrong Answer!\\nYou got {chances} left\")\n",
        "  \n",
        "  if chances == 0:\n",
        "    print('You lose!')\n",
        "    Reset()"
      ]
    }
  ]
}